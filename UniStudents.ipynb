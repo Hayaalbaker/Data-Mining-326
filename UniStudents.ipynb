{
 "cells": [
  {
   "cell_type": "code",
   "execution_count": null,
   "id": "4d3eb845",
   "metadata": {},
   "outputs": [],
   "source": []
  },
  {
   "cell_type": "code",
   "execution_count": null,
   "id": "6f818db2",
   "metadata": {},
   "outputs": [],
   "source": []
  },
  {
   "cell_type": "markdown",
   "id": "a7f9ce58",
   "metadata": {},
   "source": [
    "Goal of this dataset:\n",
    "\n",
    "\n",
    "\n",
    "Number of Attributes: 19\n",
    "\n",
    "Number of Objects: 783 \n",
    "\n",
    "Source of the dataset:Kaggle https://www.kaggle.com/datasets/shahzadahmad0402/depression-and-anxiety-data?resource=download\n",
    "\n",
    "Class Name: Depression and anxiety data\n",
    "\n",
    "\n",
    "|Attribute Name       |Description                  | Data Type   |Possible Values                                     |\n",
    "|---------------------|-----------------------------|-------------|----------------------------------------------------|\n",
    "|ID                   |student id                   |Nominal      |3 values                                            |\n",
    "|school_year          |student current year         |Numeric      |1-4                                                 |\n",
    "|Age                  |student age                  |Numeric      |18-24                                               |\n",
    "|Gender               |student gender               |Binary       |female/male                                         |\n",
    "|BMI                  |body mass index              |Numerical    |9-50                                                |\n",
    "|who_bmi              |bmi classification           |Nominal      |Underweight/Normal/Overweight/Obese                 |\n",
    "|PHQ Score            |Patient Health Questionnaire |Ordinal      |0-27                                                |\n",
    "|depression_severity  |severity of depression       |Nominal      |Mild/Moderate/Moderately Severe/Severe/None-Minimal |\n",
    "|depressiveness       |depressiveness               |Binary       |TRUE/FALSE                                          |\n",
    "|Suicidal             |likely to commit suicide     |Binary       |TRUE/FALSE                                          |  \n",
    "|depression_diagnosis |depression diagnosis         |Binary       |TRUE/FALSE                                          |\n",
    "|depression_treatment |treating depression          |Binary       |TRUE/FALSE                                          |\n",
    "|GAD Score            |Generalized Anxiety Disorder |Ordinal      |0-<15                                               |\n",
    "|anxiety_severity     |severity of anxiety          |Nominal      |Mild/Moderate/Moderately Severe/Severe/None-Minimal |\n",
    "|anxiousness          |anxiousness                  |Binary       |TRUE/FALSE                                          |\n",
    "|anxiety_diagnosis    |anxiety diagnosis            |Binary       |TRUE/FALSE                                          |\n",
    "|anxiety_treatment    |treating of anxiety          |Binary       |TRUE/FALSE                                          |\n",
    "|EPWORTH Score        |The Epworth Sleepiness Scale |ordinal      |0-15                                                |\n",
    "|Sleepiness           |state of being sleepy        |Binary       |TRUE/FALSE                                          |\n"
   ]
  },
  {
   "cell_type": "code",
   "execution_count": null,
   "id": "4d725bb2",
   "metadata": {},
   "outputs": [],
   "source": []
  }
 ],
 "metadata": {
  "kernelspec": {
   "display_name": "R",
   "language": "R",
   "name": "ir"
  },
  "language_info": {
   "codemirror_mode": "r",
   "file_extension": ".r",
   "mimetype": "text/x-r-source",
   "name": "R",
   "pygments_lexer": "r",
   "version": "3.6.1"
  }
 },
 "nbformat": 4,
 "nbformat_minor": 5
}
